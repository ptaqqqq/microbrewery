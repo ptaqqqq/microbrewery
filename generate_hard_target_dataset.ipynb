{
 "cells": [
  {
   "cell_type": "code",
   "execution_count": null,
   "id": "61b27d34",
   "metadata": {},
   "outputs": [],
   "source": [
    "import datasets\n",
    "from datasets import Dataset\n",
    "import gc\n",
    "import torch\n",
    "from transformers import AutoModelForCausalLM, AutoTokenizer, TextGenerationPipeline"
   ]
  },
  {
   "cell_type": "code",
   "execution_count": 2,
   "id": "639e061c",
   "metadata": {},
   "outputs": [
    {
     "data": {
      "text/plain": [
       "'cuda'"
      ]
     },
     "execution_count": 2,
     "metadata": {},
     "output_type": "execute_result"
    }
   ],
   "source": [
    "DEVICE = \"cuda\" if torch.cuda.is_available() else \"cpu\"\n",
    "DEVICE"
   ]
  },
  {
   "cell_type": "code",
   "execution_count": 4,
   "id": "7359d9ec",
   "metadata": {},
   "outputs": [],
   "source": [
    "tokenizer = AutoTokenizer.from_pretrained(\"speakleash/Bielik-1.5B-v3.0-Instruct\")\n",
    "model = AutoModelForCausalLM.from_pretrained(\"speakleash/Bielik-1.5B-v3.0-Instruct\").to(DEVICE)"
   ]
  },
  {
   "cell_type": "code",
   "execution_count": null,
   "id": "d8e62c8f",
   "metadata": {},
   "outputs": [
    {
     "data": {
      "text/plain": [
       "Dataset({\n",
       "    features: ['prompt'],\n",
       "    num_rows: 368\n",
       "})"
      ]
     },
     "execution_count": 7,
     "metadata": {},
     "output_type": "execute_result"
    }
   ],
   "source": [
    "dataset = datasets.load_dataset(\"Igorrr0/polish-qa-general\")\n",
    "\n",
    "\n",
    "def to_chat_format(sample):\n",
    "    system_prompt = {\"role\": \"system\", \"content\": \"Odpowiadaj krótko i konwersacyjnie :)\"}\n",
    "    user_msg = {\"role\": \"user\", \"content\": sample[\"instruction\"]}\n",
    "    assistant_msg = {\"role\": \"assistant\", \"content\": sample[\"output\"]}\n",
    "    return {\"prompt\": [system_prompt, user_msg], \"completion\": [system_prompt, user_msg, assistant_msg]}\n",
    "\n",
    "dataset = dataset.map(to_chat_format).remove_columns([\"instruction\", \"input\", \"output\"])"
   ]
  },
  {
   "cell_type": "code",
   "execution_count": null,
   "id": "1025a307",
   "metadata": {},
   "outputs": [
    {
     "name": "stderr",
     "output_type": "stream",
     "text": [
      "Device set to use cuda\n"
     ]
    },
    {
     "name": "stdout",
     "output_type": "stream",
     "text": [
      "Generating responses\n"
     ]
    }
   ],
   "source": [
    "import transformers\n",
    "from transformers.pipelines.pt_utils import KeyDataset\n",
    "\n",
    "pipe = TextGenerationPipeline(\n",
    "    model=model, \n",
    "    tokenizer=tokenizer,\n",
    "    batch_size=1,\n",
    "    device=DEVICE,\n",
    ")\n",
    "\n",
    "gc.collect()\n",
    "\n",
    "train_dataset = KeyDataset(dataset[\"train\"], \"prompt\")\n",
    "\n",
    "print(\"Generating responses\")\n",
    "generated = pipe(train_dataset, batch_size=64, max_new_tokens=20, do_sample=True)\n",
    "print(\"Done\")"
   ]
  },
  {
   "cell_type": "code",
   "execution_count": 45,
   "id": "2958aacc",
   "metadata": {},
   "outputs": [
    {
     "name": "stdout",
     "output_type": "stream",
     "text": [
      "[{'generated_text': [{'content': 'Odpowiadaj krótko i konwersacyjnie :)', 'role': 'system'}, {'content': 'Jak mogę pomóc?', 'role': 'user'}, {'role': 'assistant', 'content': 'Jestem tu, aby pomóc w każdej sprawie, która przychodzi Ci do głowy, od prostych pytań po bardziej'}]}]\n"
     ]
    },
    {
     "data": {
      "application/vnd.jupyter.widget-view+json": {
       "model_id": "d6165c2af6064e10b01e7cbbbdf04b9c",
       "version_major": 2,
       "version_minor": 0
      },
      "text/plain": [
       "Creating json from Arrow format:   0%|          | 0/1 [00:00<?, ?ba/s]"
      ]
     },
     "metadata": {},
     "output_type": "display_data"
    },
    {
     "data": {
      "text/plain": [
       "28213"
      ]
     },
     "execution_count": 45,
     "metadata": {},
     "output_type": "execute_result"
    }
   ],
   "source": [
    "print(generated[0])\n",
    "list_dataset = [{\"completion\": x, \"prompt\": dataset[\"train\"][i][\"prompt\"]} for i, x in enumerate(generated)]\n",
    "hf_ds = Dataset.from_list(list_dataset)\n",
    "hf_ds.to_json(\"cached_ds.json\")"
   ]
  }
 ],
 "metadata": {
  "kernelspec": {
   "display_name": ".venv",
   "language": "python",
   "name": "python3"
  },
  "language_info": {
   "codemirror_mode": {
    "name": "ipython",
    "version": 3
   },
   "file_extension": ".py",
   "mimetype": "text/x-python",
   "name": "python",
   "nbconvert_exporter": "python",
   "pygments_lexer": "ipython3",
   "version": "3.13.5"
  }
 },
 "nbformat": 4,
 "nbformat_minor": 5
}
